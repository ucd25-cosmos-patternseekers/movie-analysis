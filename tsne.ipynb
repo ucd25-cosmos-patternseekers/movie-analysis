{
 "cells": [
  {
   "cell_type": "code",
   "execution_count": 1,
   "id": "3eb64f66",
   "metadata": {},
   "outputs": [
    {
     "name": "stdout",
     "output_type": "stream",
     "text": [
      "Dataset shape: (300, 11)\n",
      "\n",
      "First few rows:\n",
      "   is_Action  is_Comedy  is_Drama  is_Horror  is_Romance  is_Sci-Fi  \\\n",
      "0          0          1         0          0           0          1   \n",
      "1          0          0         0          1           0          0   \n",
      "2          0          0         1          0           1          1   \n",
      "3          1          0         1          0           1          1   \n",
      "4          1          1         1          1           1          1   \n",
      "\n",
      "   popularity     runtime  vote_average                            title  \\\n",
      "0   53.261330  126.965298      7.419076        The Broken Day of Justice   \n",
      "1   37.488864  109.612643      6.209725         The Broken Night of Time   \n",
      "2   59.240270   91.432315      6.767392          The Hidden City of Time   \n",
      "3   48.150979  108.588742      6.821698           The Lost Dream of Time   \n",
      "4   44.772770  120.990331      5.831910  The Glorious Revenge of Secrets   \n",
      "\n",
      "   cluster  \n",
      "0        4  \n",
      "1        2  \n",
      "2        1  \n",
      "3        1  \n",
      "4        3  \n",
      "\n",
      "Cluster distribution:\n",
      "cluster\n",
      "0    37\n",
      "1    64\n",
      "2    68\n",
      "3    57\n",
      "4    74\n",
      "Name: count, dtype: int64\n"
     ]
    }
   ],
   "source": [
    "import pandas as pd\n",
    "import numpy as np\n",
    "import matplotlib.pyplot as plt\n",
    "import seaborn as sns\n",
    "from sklearn.manifold import TSNE\n",
    "from sklearn.preprocessing import StandardScaler\n",
    "from sklearn.decomposition import PCA\n",
    "import plotly.express as px\n",
    "import plotly.graph_objects as go\n",
    "from plotly.subplots import make_subplots\n",
    "\n",
    "# Load the data\n",
    "df = pd.read_csv('movie_cluster_data.csv')\n",
    "\n",
    "print(\"Dataset shape:\", df.shape)\n",
    "print(\"\\nFirst few rows:\")\n",
    "print(df.head())\n",
    "print(\"\\nCluster distribution:\")\n",
    "print(df['cluster'].value_counts().sort_index())"
   ]
  }
 ],
 "metadata": {
  "kernelspec": {
   "display_name": "cosmos",
   "language": "python",
   "name": "python3"
  },
  "language_info": {
   "codemirror_mode": {
    "name": "ipython",
    "version": 3
   },
   "file_extension": ".py",
   "mimetype": "text/x-python",
   "name": "python",
   "nbconvert_exporter": "python",
   "pygments_lexer": "ipython3",
   "version": "3.12.11"
  }
 },
 "nbformat": 4,
 "nbformat_minor": 5
}

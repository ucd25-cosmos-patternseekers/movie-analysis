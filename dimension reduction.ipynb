{
 "cells": [
  {
   "cell_type": "code",
   "execution_count": 10,
   "id": "22f749fa",
   "metadata": {},
   "outputs": [
    {
     "data": {
      "text/html": [
       "<div>\n",
       "<style scoped>\n",
       "    .dataframe tbody tr th:only-of-type {\n",
       "        vertical-align: middle;\n",
       "    }\n",
       "\n",
       "    .dataframe tbody tr th {\n",
       "        vertical-align: top;\n",
       "    }\n",
       "\n",
       "    .dataframe thead th {\n",
       "        text-align: right;\n",
       "    }\n",
       "</style>\n",
       "<table border=\"1\" class=\"dataframe\">\n",
       "  <thead>\n",
       "    <tr style=\"text-align: right;\">\n",
       "      <th></th>\n",
       "      <th>is_Action</th>\n",
       "      <th>is_Comedy</th>\n",
       "      <th>is_Drama</th>\n",
       "      <th>is_Horror</th>\n",
       "      <th>is_Romance</th>\n",
       "      <th>is_Sci-Fi</th>\n",
       "      <th>popularity</th>\n",
       "      <th>runtime</th>\n",
       "      <th>vote_average</th>\n",
       "    </tr>\n",
       "  </thead>\n",
       "  <tbody>\n",
       "    <tr>\n",
       "      <th>0</th>\n",
       "      <td>0</td>\n",
       "      <td>1</td>\n",
       "      <td>0</td>\n",
       "      <td>0</td>\n",
       "      <td>0</td>\n",
       "      <td>1</td>\n",
       "      <td>53.261330</td>\n",
       "      <td>126.965298</td>\n",
       "      <td>7.419076</td>\n",
       "    </tr>\n",
       "    <tr>\n",
       "      <th>1</th>\n",
       "      <td>0</td>\n",
       "      <td>0</td>\n",
       "      <td>0</td>\n",
       "      <td>1</td>\n",
       "      <td>0</td>\n",
       "      <td>0</td>\n",
       "      <td>37.488864</td>\n",
       "      <td>109.612643</td>\n",
       "      <td>6.209725</td>\n",
       "    </tr>\n",
       "    <tr>\n",
       "      <th>2</th>\n",
       "      <td>0</td>\n",
       "      <td>0</td>\n",
       "      <td>1</td>\n",
       "      <td>0</td>\n",
       "      <td>1</td>\n",
       "      <td>1</td>\n",
       "      <td>59.240270</td>\n",
       "      <td>91.432315</td>\n",
       "      <td>6.767392</td>\n",
       "    </tr>\n",
       "    <tr>\n",
       "      <th>3</th>\n",
       "      <td>1</td>\n",
       "      <td>0</td>\n",
       "      <td>1</td>\n",
       "      <td>0</td>\n",
       "      <td>1</td>\n",
       "      <td>1</td>\n",
       "      <td>48.150979</td>\n",
       "      <td>108.588742</td>\n",
       "      <td>6.821698</td>\n",
       "    </tr>\n",
       "    <tr>\n",
       "      <th>4</th>\n",
       "      <td>1</td>\n",
       "      <td>1</td>\n",
       "      <td>1</td>\n",
       "      <td>1</td>\n",
       "      <td>1</td>\n",
       "      <td>1</td>\n",
       "      <td>44.772770</td>\n",
       "      <td>120.990331</td>\n",
       "      <td>5.831910</td>\n",
       "    </tr>\n",
       "  </tbody>\n",
       "</table>\n",
       "</div>"
      ],
      "text/plain": [
       "   is_Action  is_Comedy  is_Drama  is_Horror  is_Romance  is_Sci-Fi  \\\n",
       "0          0          1         0          0           0          1   \n",
       "1          0          0         0          1           0          0   \n",
       "2          0          0         1          0           1          1   \n",
       "3          1          0         1          0           1          1   \n",
       "4          1          1         1          1           1          1   \n",
       "\n",
       "   popularity     runtime  vote_average  \n",
       "0   53.261330  126.965298      7.419076  \n",
       "1   37.488864  109.612643      6.209725  \n",
       "2   59.240270   91.432315      6.767392  \n",
       "3   48.150979  108.588742      6.821698  \n",
       "4   44.772770  120.990331      5.831910  "
      ]
     },
     "execution_count": 10,
     "metadata": {},
     "output_type": "execute_result"
    }
   ],
   "source": [
    "import matplotlib.pyplot as plt\n",
    "import seaborn as sns\n",
    "import numpy as np\n",
    "import pandas as pd\n",
    "from sklearn.decomposition import PCA\n",
    "\n",
    "\n",
    "X = pd.read_csv(\"movie_cluster_data.csv\")\n",
    "\n",
    "X_numeric = X.drop(columns=[\"title\", \"cluster\"])\n",
    "X_numeric.head()"
   ]
  },
  {
   "cell_type": "code",
   "execution_count": 11,
   "id": "a18112f4",
   "metadata": {},
   "outputs": [
    {
     "data": {
      "text/plain": [
       "array([[-0.96720415,  0.94169658, -0.96720415, ...,  0.26224026,\n",
       "         1.65160472,  0.87209107],\n",
       "       [-0.96720415, -1.06191317, -0.96720415, ..., -1.38276651,\n",
       "         0.52057886, -0.32894271],\n",
       "       [-0.96720415, -1.06191317,  1.03390789, ...,  0.88582042,\n",
       "        -0.66439375,  0.22488882],\n",
       "       ...,\n",
       "       [ 1.03390789,  0.94169658, -0.96720415, ..., -0.78918679,\n",
       "         0.71381577,  0.85705356],\n",
       "       [-0.96720415,  0.94169658, -0.96720415, ..., -1.12255444,\n",
       "        -0.02595888, -2.387346  ],\n",
       "       [ 1.03390789,  0.94169658, -0.96720415, ..., -0.37108044,\n",
       "        -0.20264471, -1.04345084]], shape=(300, 9))"
      ]
     },
     "execution_count": 11,
     "metadata": {},
     "output_type": "execute_result"
    }
   ],
   "source": [
    "from sklearn.preprocessing import StandardScaler\n",
    "X_scaled = StandardScaler().fit_transform(X_numeric)\n",
    "\n",
    "X_scaled"
   ]
  },
  {
   "cell_type": "code",
   "execution_count": 19,
   "id": "77e4b774",
   "metadata": {},
   "outputs": [
    {
     "data": {
      "application/vnd.plotly.v1+json": {
       "config": {
        "plotlyServerURL": "https://plot.ly"
       },
       "data": [
        {
         "customdata": [
          [
           "The Broken Day of Justice",
           4
          ],
          [
           "The Broken Night of Time",
           2
          ],
          [
           "The Hidden City of Time",
           1
          ],
          [
           "The Lost Dream of Time",
           1
          ],
          [
           "The Glorious Revenge of Secrets",
           3
          ],
          [
           "The Lost World of Escape",
           3
          ],
          [
           "The Hidden Revenge of Secrets",
           2
          ],
          [
           "The Lost Day of Future",
           3
          ],
          [
           "The Dark Hope of Escape",
           4
          ],
          [
           "The Dark City of War",
           0
          ],
          [
           "The Glorious Night of Fire",
           2
          ],
          [
           "The Last Heart of Memories",
           1
          ],
          [
           "The Wild Hope of Escape",
           4
          ],
          [
           "The Hidden Heart of Memories",
           4
          ],
          [
           "The Final Truth of Fire",
           1
          ],
          [
           "The Furious World of Future",
           3
          ],
          [
           "The Silent Hope of Future",
           0
          ],
          [
           "The Furious Dream of Justice",
           3
          ],
          [
           "The Final Night of Fire",
           1
          ],
          [
           "The Wild Dream of War",
           4
          ],
          [
           "The Wild Dream of Power",
           1
          ],
          [
           "The Glorious World of War",
           1
          ],
          [
           "The Last Revenge of Love",
           2
          ],
          [
           "The Broken Day of War",
           1
          ],
          [
           "The Hidden Revenge of Secrets",
           2
          ],
          [
           "The Hidden City of Future",
           2
          ],
          [
           "The Silent Hope of War",
           4
          ],
          [
           "The Glorious Game of War",
           3
          ],
          [
           "The Dark Night of Escape",
           0
          ],
          [
           "The Last Night of Love",
           4
          ],
          [
           "The Broken City of Power",
           1
          ],
          [
           "The Lost World of Justice",
           2
          ],
          [
           "The Final World of Secrets",
           2
          ],
          [
           "The Silent Heart of Time",
           2
          ],
          [
           "The Furious Night of Fire",
           3
          ],
          [
           "The Glorious City of War",
           2
          ],
          [
           "The Hidden Truth of Fire",
           1
          ],
          [
           "The Lost Dream of Secrets",
           0
          ],
          [
           "The Glorious Day of Fire",
           1
          ],
          [
           "The Glorious City of Escape",
           0
          ],
          [
           "The Final Game of Secrets",
           1
          ],
          [
           "The Silent Game of Memories",
           1
          ],
          [
           "The Lost Truth of Future",
           2
          ],
          [
           "The Lost World of Secrets",
           2
          ],
          [
           "The Lost Heart of Love",
           0
          ],
          [
           "The Final Truth of Future",
           0
          ],
          [
           "The Glorious Truth of Memories",
           4
          ],
          [
           "The Glorious Game of Justice",
           1
          ],
          [
           "The Glorious Dream of Escape",
           4
          ],
          [
           "The Hidden World of Memories",
           0
          ],
          [
           "The Final City of Fire",
           2
          ],
          [
           "The Hidden Hope of War",
           3
          ],
          [
           "The Broken Night of Escape",
           2
          ],
          [
           "The Wild Heart of Justice",
           3
          ],
          [
           "The Last Hope of War",
           4
          ],
          [
           "The Glorious Hope of Future",
           1
          ],
          [
           "The Dark Night of Fire",
           1
          ],
          [
           "The Glorious Night of War",
           4
          ],
          [
           "The Silent Dream of Escape",
           1
          ],
          [
           "The Final Hope of Power",
           1
          ],
          [
           "The Furious Game of Time",
           2
          ],
          [
           "The Last Game of Justice",
           4
          ],
          [
           "The Hidden Night of Time",
           4
          ],
          [
           "The Furious Game of Future",
           1
          ],
          [
           "The Furious Truth of Future",
           4
          ],
          [
           "The Dark Truth of Justice",
           1
          ],
          [
           "The Wild City of War",
           0
          ],
          [
           "The Furious World of Justice",
           1
          ],
          [
           "The Furious Game of Justice",
           3
          ],
          [
           "The Last Heart of Secrets",
           2
          ],
          [
           "The Dark Game of Memories",
           3
          ],
          [
           "The Silent Hope of Love",
           4
          ],
          [
           "The Broken Heart of War",
           3
          ],
          [
           "The Dark Truth of Power",
           2
          ],
          [
           "The Silent Heart of Justice",
           2
          ],
          [
           "The Dark Game of Secrets",
           3
          ],
          [
           "The Last Revenge of Justice",
           4
          ],
          [
           "The Broken Hope of Love",
           1
          ],
          [
           "The Lost World of Future",
           4
          ],
          [
           "The Wild Night of Fire",
           4
          ],
          [
           "The Glorious Hope of Love",
           4
          ],
          [
           "The Broken Night of Future",
           4
          ],
          [
           "The Final Dream of Love",
           4
          ],
          [
           "The Glorious Night of Justice",
           4
          ],
          [
           "The Lost Revenge of Memories",
           1
          ],
          [
           "The Lost City of Escape",
           4
          ],
          [
           "The Final City of Love",
           3
          ],
          [
           "The Broken City of Justice",
           1
          ],
          [
           "The Dark Night of Secrets",
           4
          ],
          [
           "The Furious Revenge of Memories",
           0
          ],
          [
           "The Final Day of Time",
           4
          ],
          [
           "The Glorious Heart of War",
           0
          ],
          [
           "The Glorious City of Love",
           4
          ],
          [
           "The Dark City of Future",
           3
          ],
          [
           "The Wild Truth of Future",
           3
          ],
          [
           "The Final Game of Love",
           2
          ],
          [
           "The Silent Revenge of Secrets",
           3
          ],
          [
           "The Final Night of Future",
           3
          ],
          [
           "The Dark City of Future",
           2
          ],
          [
           "The Hidden City of Time",
           4
          ],
          [
           "The Furious Night of Time",
           0
          ],
          [
           "The Last Heart of Secrets",
           0
          ],
          [
           "The Last World of Time",
           0
          ],
          [
           "The Last Truth of Time",
           1
          ],
          [
           "The Silent City of Escape",
           4
          ],
          [
           "The Broken Hope of Time",
           2
          ],
          [
           "The Final Night of Time",
           3
          ],
          [
           "The Lost Revenge of Fire",
           1
          ],
          [
           "The Final Heart of Secrets",
           2
          ],
          [
           "The Broken Game of Fire",
           1
          ],
          [
           "The Broken Truth of Escape",
           2
          ],
          [
           "The Last Hope of Escape",
           4
          ],
          [
           "The Dark Revenge of Love",
           0
          ],
          [
           "The Broken City of Power",
           0
          ],
          [
           "The Broken Day of Power",
           0
          ],
          [
           "The Glorious Revenge of War",
           4
          ],
          [
           "The Dark Day of War",
           0
          ],
          [
           "The Lost World of Justice",
           4
          ],
          [
           "The Silent Game of Love",
           4
          ],
          [
           "The Broken Truth of Love",
           4
          ],
          [
           "The Glorious Dream of Memories",
           1
          ],
          [
           "The Broken Night of Secrets",
           2
          ],
          [
           "The Broken Night of Power",
           3
          ],
          [
           "The Hidden Dream of Escape",
           4
          ],
          [
           "The Glorious Dream of Escape",
           4
          ],
          [
           "The Hidden Hope of Love",
           1
          ],
          [
           "The Wild Game of Memories",
           1
          ],
          [
           "The Wild World of Love",
           4
          ],
          [
           "The Lost Dream of Power",
           2
          ],
          [
           "The Last World of Time",
           1
          ],
          [
           "The Last Day of Time",
           3
          ],
          [
           "The Silent Dream of Memories",
           3
          ],
          [
           "The Final City of Love",
           4
          ],
          [
           "The Furious City of Justice",
           2
          ],
          [
           "The Furious Hope of Justice",
           3
          ],
          [
           "The Wild Night of Time",
           2
          ],
          [
           "The Silent Dream of Justice",
           1
          ],
          [
           "The Final Truth of Justice",
           1
          ],
          [
           "The Lost Game of War",
           4
          ],
          [
           "The Hidden Game of Power",
           4
          ],
          [
           "The Broken Revenge of Love",
           4
          ],
          [
           "The Glorious Truth of Future",
           4
          ],
          [
           "The Lost Hope of Future",
           2
          ],
          [
           "The Dark Heart of Fire",
           1
          ],
          [
           "The Last Heart of Fire",
           2
          ],
          [
           "The Final Truth of Love",
           3
          ],
          [
           "The Lost World of Memories",
           4
          ],
          [
           "The Wild Hope of Justice",
           0
          ],
          [
           "The Final Hope of Memories",
           2
          ],
          [
           "The Dark Dream of Justice",
           3
          ],
          [
           "The Last Hope of Future",
           0
          ],
          [
           "The Furious Truth of Future",
           2
          ],
          [
           "The Lost City of Justice",
           3
          ],
          [
           "The Hidden Revenge of Future",
           4
          ],
          [
           "The Hidden Truth of Escape",
           2
          ],
          [
           "The Dark Heart of Love",
           2
          ],
          [
           "The Wild Truth of Justice",
           1
          ],
          [
           "The Final Revenge of Memories",
           2
          ],
          [
           "The Last City of Memories",
           2
          ],
          [
           "The Lost Day of Time",
           3
          ],
          [
           "The Wild Dream of Memories",
           1
          ],
          [
           "The Wild Truth of Fire",
           3
          ],
          [
           "The Glorious Day of War",
           3
          ],
          [
           "The Final Night of Love",
           3
          ],
          [
           "The Lost Truth of Love",
           3
          ],
          [
           "The Silent Heart of Power",
           3
          ],
          [
           "The Last Night of Fire",
           3
          ],
          [
           "The Wild Revenge of Time",
           1
          ],
          [
           "The Lost World of Time",
           4
          ],
          [
           "The Broken Day of Time",
           3
          ],
          [
           "The Silent Dream of Time",
           3
          ],
          [
           "The Last Dream of Memories",
           2
          ],
          [
           "The Lost Game of Future",
           4
          ],
          [
           "The Last Night of Secrets",
           2
          ],
          [
           "The Final Hope of Time",
           2
          ],
          [
           "The Last Night of Love",
           2
          ],
          [
           "The Lost World of Power",
           1
          ],
          [
           "The Dark Truth of Power",
           1
          ],
          [
           "The Wild Dream of Justice",
           2
          ],
          [
           "The Last World of Love",
           1
          ],
          [
           "The Dark World of Justice",
           2
          ],
          [
           "The Broken Heart of Love",
           3
          ],
          [
           "The Glorious Game of Secrets",
           1
          ],
          [
           "The Final Dream of Time",
           1
          ],
          [
           "The Broken Night of Secrets",
           3
          ],
          [
           "The Last Revenge of Power",
           1
          ],
          [
           "The Silent Night of Memories",
           2
          ],
          [
           "The Silent Heart of Justice",
           1
          ],
          [
           "The Final World of War",
           3
          ],
          [
           "The Dark Dream of Fire",
           2
          ],
          [
           "The Furious Day of Love",
           1
          ],
          [
           "The Broken World of Fire",
           4
          ],
          [
           "The Broken Night of Love",
           3
          ],
          [
           "The Final Game of Memories",
           0
          ],
          [
           "The Broken Day of War",
           4
          ],
          [
           "The Dark Game of Fire",
           2
          ],
          [
           "The Lost City of Justice",
           4
          ],
          [
           "The Glorious City of Love",
           3
          ],
          [
           "The Final Day of Secrets",
           4
          ],
          [
           "The Glorious World of War",
           1
          ],
          [
           "The Silent Hope of Memories",
           0
          ],
          [
           "The Silent Hope of Time",
           4
          ],
          [
           "The Furious Day of Secrets",
           0
          ],
          [
           "The Dark Truth of Power",
           2
          ],
          [
           "The Dark Hope of Power",
           4
          ],
          [
           "The Glorious Dream of Fire",
           4
          ],
          [
           "The Final Truth of Love",
           4
          ],
          [
           "The Lost Revenge of Fire",
           2
          ],
          [
           "The Furious World of Memories",
           4
          ],
          [
           "The Wild Revenge of Power",
           3
          ],
          [
           "The Hidden Game of War",
           2
          ],
          [
           "The Glorious Truth of Fire",
           4
          ],
          [
           "The Furious Dream of Memories",
           2
          ],
          [
           "The Hidden City of Escape",
           0
          ],
          [
           "The Hidden Day of Justice",
           3
          ],
          [
           "The Silent Hope of Escape",
           1
          ],
          [
           "The Furious Game of Secrets",
           2
          ],
          [
           "The Final World of War",
           0
          ],
          [
           "The Glorious Revenge of Power",
           4
          ],
          [
           "The Silent Night of Future",
           3
          ],
          [
           "The Dark Revenge of Fire",
           2
          ],
          [
           "The Hidden Truth of Time",
           1
          ],
          [
           "The Lost Truth of Secrets",
           0
          ],
          [
           "The Last Game of Love",
           2
          ],
          [
           "The Broken City of Time",
           1
          ],
          [
           "The Lost Heart of Time",
           4
          ],
          [
           "The Last Revenge of Love",
           1
          ],
          [
           "The Furious Hope of Escape",
           0
          ],
          [
           "The Hidden Night of Secrets",
           4
          ],
          [
           "The Furious World of Time",
           1
          ],
          [
           "The Furious Truth of Secrets",
           4
          ],
          [
           "The Dark Heart of Justice",
           4
          ],
          [
           "The Broken Hope of Time",
           4
          ],
          [
           "The Final World of Justice",
           2
          ],
          [
           "The Furious Hope of Power",
           0
          ],
          [
           "The Last Hope of Power",
           4
          ],
          [
           "The Broken Dream of Fire",
           2
          ],
          [
           "The Furious Game of Secrets",
           0
          ],
          [
           "The Final Hope of Memories",
           1
          ],
          [
           "The Wild Hope of Power",
           3
          ],
          [
           "The Furious Revenge of Secrets",
           3
          ],
          [
           "The Dark Dream of Justice",
           3
          ],
          [
           "The Wild Truth of Power",
           1
          ],
          [
           "The Wild Truth of Justice",
           2
          ],
          [
           "The Hidden Dream of War",
           3
          ],
          [
           "The Hidden Revenge of Future",
           4
          ],
          [
           "The Wild Heart of Future",
           0
          ],
          [
           "The Broken Heart of Love",
           2
          ],
          [
           "The Hidden Night of Fire",
           2
          ],
          [
           "The Silent Hope of Escape",
           1
          ],
          [
           "The Broken Hope of War",
           3
          ],
          [
           "The Last Night of Justice",
           3
          ],
          [
           "The Last Heart of Love",
           3
          ],
          [
           "The Lost Revenge of Power",
           1
          ],
          [
           "The Final Revenge of Secrets",
           2
          ],
          [
           "The Broken Game of War",
           0
          ],
          [
           "The Dark Revenge of Secrets",
           3
          ],
          [
           "The Dark Truth of Escape",
           1
          ],
          [
           "The Dark Night of Secrets",
           4
          ],
          [
           "The Broken Day of War",
           1
          ],
          [
           "The Silent Game of Fire",
           0
          ],
          [
           "The Final Day of Memories",
           4
          ],
          [
           "The Furious Truth of Power",
           0
          ],
          [
           "The Glorious Day of Future",
           1
          ],
          [
           "The Dark Game of Fire",
           4
          ],
          [
           "The Last Game of War",
           1
          ],
          [
           "The Silent Game of Justice",
           3
          ],
          [
           "The Glorious Game of Time",
           1
          ],
          [
           "The Silent Night of Power",
           2
          ],
          [
           "The Last Game of Secrets",
           1
          ],
          [
           "The Broken Hope of War",
           3
          ],
          [
           "The Lost Day of Secrets",
           2
          ],
          [
           "The Lost Hope of Secrets",
           2
          ],
          [
           "The Silent Day of Fire",
           0
          ],
          [
           "The Final Revenge of War",
           2
          ],
          [
           "The Broken Heart of Time",
           3
          ],
          [
           "The Lost Heart of Time",
           2
          ],
          [
           "The Dark Day of Escape",
           2
          ],
          [
           "The Last Heart of Secrets",
           3
          ],
          [
           "The Last Truth of Time",
           2
          ],
          [
           "The Broken Truth of Escape",
           4
          ],
          [
           "The Hidden Night of Secrets",
           4
          ],
          [
           "The Hidden Night of Love",
           2
          ],
          [
           "The Hidden World of Justice",
           4
          ],
          [
           "The Last Day of War",
           4
          ],
          [
           "The Hidden Revenge of Escape",
           2
          ],
          [
           "The Silent Hope of Future",
           3
          ],
          [
           "The Wild World of Memories",
           3
          ],
          [
           "The Wild Day of Secrets",
           0
          ],
          [
           "The Glorious Dream of Love",
           4
          ],
          [
           "The Furious Revenge of Escape",
           0
          ],
          [
           "The Lost Truth of Justice",
           1
          ],
          [
           "The Dark Night of Future",
           2
          ],
          [
           "The Dark City of Secrets",
           1
          ],
          [
           "The Dark Game of Justice",
           0
          ],
          [
           "The Glorious Day of Fire",
           2
          ],
          [
           "The Broken Game of Love",
           1
          ],
          [
           "The Wild World of Future",
           4
          ],
          [
           "The Dark Hope of Love",
           4
          ],
          [
           "The Final World of Escape",
           4
          ]
         ],
         "hovertemplate": "TSNE-1=%{x}<br>TSNE-2=%{y}<br>Title=%{customdata[0]}<br>Cluster=%{marker.color}<extra></extra>",
         "legendgroup": "",
         "marker": {
          "color": {
           "bdata": "BAIBAQMDAgMEAAIBBAQBAwADAQQBAQIBAgIEAwAEAQICAgMCAQABAAEBAgIAAAQBBAACAwIDBAEBBAEBAgQEAQQBAAEDAgMEAwICAwQBBAQEBAQEAQQDAQQABAAEAwMCAwMCBAAAAAEEAgMBAgECBAAAAAQABAQEAQIDBAQBAQQCAQMDBAIDAgEBBAQEBAIBAgMEAAIDAAIDBAICAQICAwEDAwMDAwMBBAMDAgQCAgIBAQIBAgMBAQMBAgEDAgEEAwAEAgQDBAEABAACBAQEAgQDAgQCAAMBAgAEAwIBAAIBBAEABAEEBAQCAAQCAAEDAwMBAgMEAAICAQMDAwECAAMBBAEABAABBAEDAQIBAwICAAIDAgIDAgQEAgQEAgMDAAQAAQIBAAIBBAQE",
           "dtype": "i1"
          },
          "coloraxis": "coloraxis",
          "opacity": 0.7,
          "size": 8,
          "symbol": "circle"
         },
         "mode": "markers",
         "name": "",
         "orientation": "v",
         "showlegend": false,
         "type": "scatter",
         "x": {
          "bdata": "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",
          "dtype": "f8"
         },
         "xaxis": "x",
         "y": {
          "bdata": "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",
          "dtype": "f8"
         },
         "yaxis": "y"
        }
       ],
       "layout": {
        "coloraxis": {
         "colorbar": {
          "title": {
           "text": "Cluster"
          }
         },
         "colorscale": [
          [
           0,
           "#0d0887"
          ],
          [
           0.1111111111111111,
           "#46039f"
          ],
          [
           0.2222222222222222,
           "#7201a8"
          ],
          [
           0.3333333333333333,
           "#9c179e"
          ],
          [
           0.4444444444444444,
           "#bd3786"
          ],
          [
           0.5555555555555556,
           "#d8576b"
          ],
          [
           0.6666666666666666,
           "#ed7953"
          ],
          [
           0.7777777777777778,
           "#fb9f3a"
          ],
          [
           0.8888888888888888,
           "#fdca26"
          ],
          [
           1,
           "#f0f921"
          ]
         ]
        },
        "legend": {
         "tracegroupgap": 0
        },
        "template": {
         "data": {
          "bar": [
           {
            "error_x": {
             "color": "#2a3f5f"
            },
            "error_y": {
             "color": "#2a3f5f"
            },
            "marker": {
             "line": {
              "color": "#E5ECF6",
              "width": 0.5
             },
             "pattern": {
              "fillmode": "overlay",
              "size": 10,
              "solidity": 0.2
             }
            },
            "type": "bar"
           }
          ],
          "barpolar": [
           {
            "marker": {
             "line": {
              "color": "#E5ECF6",
              "width": 0.5
             },
             "pattern": {
              "fillmode": "overlay",
              "size": 10,
              "solidity": 0.2
             }
            },
            "type": "barpolar"
           }
          ],
          "carpet": [
           {
            "aaxis": {
             "endlinecolor": "#2a3f5f",
             "gridcolor": "white",
             "linecolor": "white",
             "minorgridcolor": "white",
             "startlinecolor": "#2a3f5f"
            },
            "baxis": {
             "endlinecolor": "#2a3f5f",
             "gridcolor": "white",
             "linecolor": "white",
             "minorgridcolor": "white",
             "startlinecolor": "#2a3f5f"
            },
            "type": "carpet"
           }
          ],
          "choropleth": [
           {
            "colorbar": {
             "outlinewidth": 0,
             "ticks": ""
            },
            "type": "choropleth"
           }
          ],
          "contour": [
           {
            "colorbar": {
             "outlinewidth": 0,
             "ticks": ""
            },
            "colorscale": [
             [
              0,
              "#0d0887"
             ],
             [
              0.1111111111111111,
              "#46039f"
             ],
             [
              0.2222222222222222,
              "#7201a8"
             ],
             [
              0.3333333333333333,
              "#9c179e"
             ],
             [
              0.4444444444444444,
              "#bd3786"
             ],
             [
              0.5555555555555556,
              "#d8576b"
             ],
             [
              0.6666666666666666,
              "#ed7953"
             ],
             [
              0.7777777777777778,
              "#fb9f3a"
             ],
             [
              0.8888888888888888,
              "#fdca26"
             ],
             [
              1,
              "#f0f921"
             ]
            ],
            "type": "contour"
           }
          ],
          "contourcarpet": [
           {
            "colorbar": {
             "outlinewidth": 0,
             "ticks": ""
            },
            "type": "contourcarpet"
           }
          ],
          "heatmap": [
           {
            "colorbar": {
             "outlinewidth": 0,
             "ticks": ""
            },
            "colorscale": [
             [
              0,
              "#0d0887"
             ],
             [
              0.1111111111111111,
              "#46039f"
             ],
             [
              0.2222222222222222,
              "#7201a8"
             ],
             [
              0.3333333333333333,
              "#9c179e"
             ],
             [
              0.4444444444444444,
              "#bd3786"
             ],
             [
              0.5555555555555556,
              "#d8576b"
             ],
             [
              0.6666666666666666,
              "#ed7953"
             ],
             [
              0.7777777777777778,
              "#fb9f3a"
             ],
             [
              0.8888888888888888,
              "#fdca26"
             ],
             [
              1,
              "#f0f921"
             ]
            ],
            "type": "heatmap"
           }
          ],
          "histogram": [
           {
            "marker": {
             "pattern": {
              "fillmode": "overlay",
              "size": 10,
              "solidity": 0.2
             }
            },
            "type": "histogram"
           }
          ],
          "histogram2d": [
           {
            "colorbar": {
             "outlinewidth": 0,
             "ticks": ""
            },
            "colorscale": [
             [
              0,
              "#0d0887"
             ],
             [
              0.1111111111111111,
              "#46039f"
             ],
             [
              0.2222222222222222,
              "#7201a8"
             ],
             [
              0.3333333333333333,
              "#9c179e"
             ],
             [
              0.4444444444444444,
              "#bd3786"
             ],
             [
              0.5555555555555556,
              "#d8576b"
             ],
             [
              0.6666666666666666,
              "#ed7953"
             ],
             [
              0.7777777777777778,
              "#fb9f3a"
             ],
             [
              0.8888888888888888,
              "#fdca26"
             ],
             [
              1,
              "#f0f921"
             ]
            ],
            "type": "histogram2d"
           }
          ],
          "histogram2dcontour": [
           {
            "colorbar": {
             "outlinewidth": 0,
             "ticks": ""
            },
            "colorscale": [
             [
              0,
              "#0d0887"
             ],
             [
              0.1111111111111111,
              "#46039f"
             ],
             [
              0.2222222222222222,
              "#7201a8"
             ],
             [
              0.3333333333333333,
              "#9c179e"
             ],
             [
              0.4444444444444444,
              "#bd3786"
             ],
             [
              0.5555555555555556,
              "#d8576b"
             ],
             [
              0.6666666666666666,
              "#ed7953"
             ],
             [
              0.7777777777777778,
              "#fb9f3a"
             ],
             [
              0.8888888888888888,
              "#fdca26"
             ],
             [
              1,
              "#f0f921"
             ]
            ],
            "type": "histogram2dcontour"
           }
          ],
          "mesh3d": [
           {
            "colorbar": {
             "outlinewidth": 0,
             "ticks": ""
            },
            "type": "mesh3d"
           }
          ],
          "parcoords": [
           {
            "line": {
             "colorbar": {
              "outlinewidth": 0,
              "ticks": ""
             }
            },
            "type": "parcoords"
           }
          ],
          "pie": [
           {
            "automargin": true,
            "type": "pie"
           }
          ],
          "scatter": [
           {
            "fillpattern": {
             "fillmode": "overlay",
             "size": 10,
             "solidity": 0.2
            },
            "type": "scatter"
           }
          ],
          "scatter3d": [
           {
            "line": {
             "colorbar": {
              "outlinewidth": 0,
              "ticks": ""
             }
            },
            "marker": {
             "colorbar": {
              "outlinewidth": 0,
              "ticks": ""
             }
            },
            "type": "scatter3d"
           }
          ],
          "scattercarpet": [
           {
            "marker": {
             "colorbar": {
              "outlinewidth": 0,
              "ticks": ""
             }
            },
            "type": "scattercarpet"
           }
          ],
          "scattergeo": [
           {
            "marker": {
             "colorbar": {
              "outlinewidth": 0,
              "ticks": ""
             }
            },
            "type": "scattergeo"
           }
          ],
          "scattergl": [
           {
            "marker": {
             "colorbar": {
              "outlinewidth": 0,
              "ticks": ""
             }
            },
            "type": "scattergl"
           }
          ],
          "scattermap": [
           {
            "marker": {
             "colorbar": {
              "outlinewidth": 0,
              "ticks": ""
             }
            },
            "type": "scattermap"
           }
          ],
          "scattermapbox": [
           {
            "marker": {
             "colorbar": {
              "outlinewidth": 0,
              "ticks": ""
             }
            },
            "type": "scattermapbox"
           }
          ],
          "scatterpolar": [
           {
            "marker": {
             "colorbar": {
              "outlinewidth": 0,
              "ticks": ""
             }
            },
            "type": "scatterpolar"
           }
          ],
          "scatterpolargl": [
           {
            "marker": {
             "colorbar": {
              "outlinewidth": 0,
              "ticks": ""
             }
            },
            "type": "scatterpolargl"
           }
          ],
          "scatterternary": [
           {
            "marker": {
             "colorbar": {
              "outlinewidth": 0,
              "ticks": ""
             }
            },
            "type": "scatterternary"
           }
          ],
          "surface": [
           {
            "colorbar": {
             "outlinewidth": 0,
             "ticks": ""
            },
            "colorscale": [
             [
              0,
              "#0d0887"
             ],
             [
              0.1111111111111111,
              "#46039f"
             ],
             [
              0.2222222222222222,
              "#7201a8"
             ],
             [
              0.3333333333333333,
              "#9c179e"
             ],
             [
              0.4444444444444444,
              "#bd3786"
             ],
             [
              0.5555555555555556,
              "#d8576b"
             ],
             [
              0.6666666666666666,
              "#ed7953"
             ],
             [
              0.7777777777777778,
              "#fb9f3a"
             ],
             [
              0.8888888888888888,
              "#fdca26"
             ],
             [
              1,
              "#f0f921"
             ]
            ],
            "type": "surface"
           }
          ],
          "table": [
           {
            "cells": {
             "fill": {
              "color": "#EBF0F8"
             },
             "line": {
              "color": "white"
             }
            },
            "header": {
             "fill": {
              "color": "#C8D4E3"
             },
             "line": {
              "color": "white"
             }
            },
            "type": "table"
           }
          ]
         },
         "layout": {
          "annotationdefaults": {
           "arrowcolor": "#2a3f5f",
           "arrowhead": 0,
           "arrowwidth": 1
          },
          "autotypenumbers": "strict",
          "coloraxis": {
           "colorbar": {
            "outlinewidth": 0,
            "ticks": ""
           }
          },
          "colorscale": {
           "diverging": [
            [
             0,
             "#8e0152"
            ],
            [
             0.1,
             "#c51b7d"
            ],
            [
             0.2,
             "#de77ae"
            ],
            [
             0.3,
             "#f1b6da"
            ],
            [
             0.4,
             "#fde0ef"
            ],
            [
             0.5,
             "#f7f7f7"
            ],
            [
             0.6,
             "#e6f5d0"
            ],
            [
             0.7,
             "#b8e186"
            ],
            [
             0.8,
             "#7fbc41"
            ],
            [
             0.9,
             "#4d9221"
            ],
            [
             1,
             "#276419"
            ]
           ],
           "sequential": [
            [
             0,
             "#0d0887"
            ],
            [
             0.1111111111111111,
             "#46039f"
            ],
            [
             0.2222222222222222,
             "#7201a8"
            ],
            [
             0.3333333333333333,
             "#9c179e"
            ],
            [
             0.4444444444444444,
             "#bd3786"
            ],
            [
             0.5555555555555556,
             "#d8576b"
            ],
            [
             0.6666666666666666,
             "#ed7953"
            ],
            [
             0.7777777777777778,
             "#fb9f3a"
            ],
            [
             0.8888888888888888,
             "#fdca26"
            ],
            [
             1,
             "#f0f921"
            ]
           ],
           "sequentialminus": [
            [
             0,
             "#0d0887"
            ],
            [
             0.1111111111111111,
             "#46039f"
            ],
            [
             0.2222222222222222,
             "#7201a8"
            ],
            [
             0.3333333333333333,
             "#9c179e"
            ],
            [
             0.4444444444444444,
             "#bd3786"
            ],
            [
             0.5555555555555556,
             "#d8576b"
            ],
            [
             0.6666666666666666,
             "#ed7953"
            ],
            [
             0.7777777777777778,
             "#fb9f3a"
            ],
            [
             0.8888888888888888,
             "#fdca26"
            ],
            [
             1,
             "#f0f921"
            ]
           ]
          },
          "colorway": [
           "#636efa",
           "#EF553B",
           "#00cc96",
           "#ab63fa",
           "#FFA15A",
           "#19d3f3",
           "#FF6692",
           "#B6E880",
           "#FF97FF",
           "#FECB52"
          ],
          "font": {
           "color": "#2a3f5f"
          },
          "geo": {
           "bgcolor": "white",
           "lakecolor": "white",
           "landcolor": "#E5ECF6",
           "showlakes": true,
           "showland": true,
           "subunitcolor": "white"
          },
          "hoverlabel": {
           "align": "left"
          },
          "hovermode": "closest",
          "mapbox": {
           "style": "light"
          },
          "paper_bgcolor": "white",
          "plot_bgcolor": "#E5ECF6",
          "polar": {
           "angularaxis": {
            "gridcolor": "white",
            "linecolor": "white",
            "ticks": ""
           },
           "bgcolor": "#E5ECF6",
           "radialaxis": {
            "gridcolor": "white",
            "linecolor": "white",
            "ticks": ""
           }
          },
          "scene": {
           "xaxis": {
            "backgroundcolor": "#E5ECF6",
            "gridcolor": "white",
            "gridwidth": 2,
            "linecolor": "white",
            "showbackground": true,
            "ticks": "",
            "zerolinecolor": "white"
           },
           "yaxis": {
            "backgroundcolor": "#E5ECF6",
            "gridcolor": "white",
            "gridwidth": 2,
            "linecolor": "white",
            "showbackground": true,
            "ticks": "",
            "zerolinecolor": "white"
           },
           "zaxis": {
            "backgroundcolor": "#E5ECF6",
            "gridcolor": "white",
            "gridwidth": 2,
            "linecolor": "white",
            "showbackground": true,
            "ticks": "",
            "zerolinecolor": "white"
           }
          },
          "shapedefaults": {
           "line": {
            "color": "#2a3f5f"
           }
          },
          "ternary": {
           "aaxis": {
            "gridcolor": "white",
            "linecolor": "white",
            "ticks": ""
           },
           "baxis": {
            "gridcolor": "white",
            "linecolor": "white",
            "ticks": ""
           },
           "bgcolor": "#E5ECF6",
           "caxis": {
            "gridcolor": "white",
            "linecolor": "white",
            "ticks": ""
           }
          },
          "title": {
           "x": 0.05
          },
          "xaxis": {
           "automargin": true,
           "gridcolor": "white",
           "linecolor": "white",
           "ticks": "",
           "title": {
            "standoff": 15
           },
           "zerolinecolor": "white",
           "zerolinewidth": 2
          },
          "yaxis": {
           "automargin": true,
           "gridcolor": "white",
           "linecolor": "white",
           "ticks": "",
           "title": {
            "standoff": 15
           },
           "zerolinecolor": "white",
           "zerolinewidth": 2
          }
         }
        },
        "title": {
         "text": "Projection Colored by Cluster"
        },
        "xaxis": {
         "anchor": "y",
         "domain": [
          0,
          1
         ],
         "title": {
          "text": "TSNE-1"
         }
        },
        "yaxis": {
         "anchor": "x",
         "domain": [
          0,
          1
         ],
         "title": {
          "text": "TSNE-2"
         }
        }
       }
      }
     },
     "metadata": {},
     "output_type": "display_data"
    }
   ],
   "source": [
    "# from sklearn.decomposition import PCA\n",
    "# X_2D = PCA(n_components=2).fit_transform(X_scaled)\n",
    "\n",
    "# from sklearn.manifold import TSNE\n",
    "# tsne = TSNE(n_components=2, perplexity=30, max_iter=1000, random_state=42)\n",
    "# X_2D = tsne.fit_transform(X_scaled)\n",
    "\n",
    "# # from sklearn.manifold import MDS\n",
    "# # X_2D = MDS(n_components=2, random_state=42).fit_transform(X_scaled)\n",
    "\n",
    "# # from sklearn.manifold import Isomap\n",
    "# # X_2D = Isomap(n_components=2).fit_transform(X_scaled)\n",
    "\n",
    "# from sklearn.manifold import SpectralEmbedding\n",
    "# X_2D = SpectralEmbedding(n_components=2, random_state=42).fit_transform(X_scaled)\n",
    "\n",
    "from sklearn.neural_network import MLPRegressor\n",
    "ae = MLPRegressor(hidden_layer_sizes=(32,), max_iter=2000, random_state=42)\n",
    "ae.fit(X_scaled, X_scaled)\n",
    "X_2D = ae.predict(X_scaled)[:, :2]\n",
    "\n",
    "import plotly.express as px\n",
    "\n",
    "# Create a DataFrame with t-SNE results and original info\n",
    "tsne_df = pd.DataFrame({\n",
    "    'TSNE-1': X_2D[:, 0],\n",
    "    'TSNE-2': X_2D[:, 1],\n",
    "    'Title': X['title'],\n",
    "    'Cluster': X['cluster']\n",
    "})\n",
    "\n",
    "# Optionally include more columns for hover info\n",
    "# tsne_df['Rating'] = X['rating']  # if exists\n",
    "\n",
    "# Interactive plot\n",
    "fig = px.scatter(\n",
    "    tsne_df,\n",
    "    x='TSNE-1',\n",
    "    y='TSNE-2',\n",
    "    color='Cluster',\n",
    "    hover_data=['Title', 'Cluster'],  # Add more fields here if you'd like\n",
    "    title=\"Projection Colored by Cluster\"\n",
    ")\n",
    "\n",
    "fig.update_traces(marker=dict(size=8, opacity=0.7))\n",
    "fig.show()\n"
   ]
  }
 ],
 "metadata": {
  "kernelspec": {
   "display_name": "cosmos",
   "language": "python",
   "name": "python3"
  },
  "language_info": {
   "codemirror_mode": {
    "name": "ipython",
    "version": 3
   },
   "file_extension": ".py",
   "mimetype": "text/x-python",
   "name": "python",
   "nbconvert_exporter": "python",
   "pygments_lexer": "ipython3",
   "version": "3.12.11"
  }
 },
 "nbformat": 4,
 "nbformat_minor": 5
}
